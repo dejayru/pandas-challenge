{
 "cells": [
  {
   "cell_type": "code",
   "execution_count": 2,
   "metadata": {},
   "outputs": [],
   "source": [
    "#import files\n",
    "import pandas as pd\n",
    "import numpy as np"
   ]
  },
  {
   "cell_type": "code",
   "execution_count": 3,
   "metadata": {},
   "outputs": [
    {
     "data": {
      "text/html": [
       "<div>\n",
       "<style scoped>\n",
       "    .dataframe tbody tr th:only-of-type {\n",
       "        vertical-align: middle;\n",
       "    }\n",
       "\n",
       "    .dataframe tbody tr th {\n",
       "        vertical-align: top;\n",
       "    }\n",
       "\n",
       "    .dataframe thead th {\n",
       "        text-align: right;\n",
       "    }\n",
       "</style>\n",
       "<table border=\"1\" class=\"dataframe\">\n",
       "  <thead>\n",
       "    <tr style=\"text-align: right;\">\n",
       "      <th></th>\n",
       "      <th>Purchase ID</th>\n",
       "      <th>SN</th>\n",
       "      <th>Age</th>\n",
       "      <th>Gender</th>\n",
       "      <th>Item ID</th>\n",
       "      <th>Item Name</th>\n",
       "      <th>Price</th>\n",
       "    </tr>\n",
       "  </thead>\n",
       "  <tbody>\n",
       "    <tr>\n",
       "      <th>0</th>\n",
       "      <td>0</td>\n",
       "      <td>Lisim78</td>\n",
       "      <td>20</td>\n",
       "      <td>Male</td>\n",
       "      <td>108</td>\n",
       "      <td>Extraction, Quickblade Of Trembling Hands</td>\n",
       "      <td>3.53</td>\n",
       "    </tr>\n",
       "    <tr>\n",
       "      <th>1</th>\n",
       "      <td>1</td>\n",
       "      <td>Lisovynya38</td>\n",
       "      <td>40</td>\n",
       "      <td>Male</td>\n",
       "      <td>143</td>\n",
       "      <td>Frenzied Scimitar</td>\n",
       "      <td>1.56</td>\n",
       "    </tr>\n",
       "    <tr>\n",
       "      <th>2</th>\n",
       "      <td>2</td>\n",
       "      <td>Ithergue48</td>\n",
       "      <td>24</td>\n",
       "      <td>Male</td>\n",
       "      <td>92</td>\n",
       "      <td>Final Critic</td>\n",
       "      <td>4.88</td>\n",
       "    </tr>\n",
       "    <tr>\n",
       "      <th>3</th>\n",
       "      <td>3</td>\n",
       "      <td>Chamassasya86</td>\n",
       "      <td>24</td>\n",
       "      <td>Male</td>\n",
       "      <td>100</td>\n",
       "      <td>Blindscythe</td>\n",
       "      <td>3.27</td>\n",
       "    </tr>\n",
       "    <tr>\n",
       "      <th>4</th>\n",
       "      <td>4</td>\n",
       "      <td>Iskosia90</td>\n",
       "      <td>23</td>\n",
       "      <td>Male</td>\n",
       "      <td>131</td>\n",
       "      <td>Fury</td>\n",
       "      <td>1.44</td>\n",
       "    </tr>\n",
       "  </tbody>\n",
       "</table>\n",
       "</div>"
      ],
      "text/plain": [
       "   Purchase ID             SN  Age Gender  Item ID  \\\n",
       "0            0        Lisim78   20   Male      108   \n",
       "1            1    Lisovynya38   40   Male      143   \n",
       "2            2     Ithergue48   24   Male       92   \n",
       "3            3  Chamassasya86   24   Male      100   \n",
       "4            4      Iskosia90   23   Male      131   \n",
       "\n",
       "                                   Item Name  Price  \n",
       "0  Extraction, Quickblade Of Trembling Hands   3.53  \n",
       "1                          Frenzied Scimitar   1.56  \n",
       "2                               Final Critic   4.88  \n",
       "3                                Blindscythe   3.27  \n",
       "4                                       Fury   1.44  "
      ]
     },
     "execution_count": 3,
     "metadata": {},
     "output_type": "execute_result"
    }
   ],
   "source": [
    "# Load csv file\n",
    "purchase_file = \"../Resources/purchase_data.csv\"\n",
    "purchase_df = pd.read_csv(purchase_file, encoding=\"utf-8\")\n",
    "purchase_df.head()"
   ]
  },
  {
   "cell_type": "code",
   "execution_count": 4,
   "metadata": {},
   "outputs": [
    {
     "data": {
      "text/plain": [
       "Index(['Purchase ID', 'SN', 'Age', 'Gender', 'Item ID', 'Item Name', 'Price'], dtype='object')"
      ]
     },
     "execution_count": 4,
     "metadata": {},
     "output_type": "execute_result"
    }
   ],
   "source": [
    "purchase_df.columns"
   ]
  },
  {
   "cell_type": "code",
   "execution_count": 5,
   "metadata": {},
   "outputs": [
    {
     "data": {
      "text/html": [
       "<div>\n",
       "<style scoped>\n",
       "    .dataframe tbody tr th:only-of-type {\n",
       "        vertical-align: middle;\n",
       "    }\n",
       "\n",
       "    .dataframe tbody tr th {\n",
       "        vertical-align: top;\n",
       "    }\n",
       "\n",
       "    .dataframe thead th {\n",
       "        text-align: right;\n",
       "    }\n",
       "</style>\n",
       "<table border=\"1\" class=\"dataframe\">\n",
       "  <thead>\n",
       "    <tr style=\"text-align: right;\">\n",
       "      <th></th>\n",
       "      <th>Total Players</th>\n",
       "    </tr>\n",
       "  </thead>\n",
       "  <tbody>\n",
       "    <tr>\n",
       "      <th>0</th>\n",
       "      <td>576</td>\n",
       "    </tr>\n",
       "  </tbody>\n",
       "</table>\n",
       "</div>"
      ],
      "text/plain": [
       "   Total Players\n",
       "0            576"
      ]
     },
     "execution_count": 5,
     "metadata": {},
     "output_type": "execute_result"
    }
   ],
   "source": [
    "# Player count - Total number of players\n",
    "total_players = len(purchase_df[\"SN\"].value_counts())\n",
    "\n",
    "total_players_sum = pd.DataFrame({\"Total Players\": [total_players]})\n",
    "total_players_sum"
   ]
  },
  {
   "cell_type": "code",
   "execution_count": 6,
   "metadata": {},
   "outputs": [
    {
     "data": {
      "text/html": [
       "<style  type=\"text/css\" >\n",
       "</style><table id=\"T_b5f3b074_8b48_11eb_a948_8b8112ff62bb\" ><thead>    <tr>        <th class=\"blank level0\" ></th>        <th class=\"col_heading level0 col0\" >Number of Unique Items</th>        <th class=\"col_heading level0 col1\" >Average Purchase Price</th>        <th class=\"col_heading level0 col2\" >Total Number of Purchases</th>        <th class=\"col_heading level0 col3\" >Total Revenue</th>    </tr></thead><tbody>\n",
       "                <tr>\n",
       "                        <th id=\"T_b5f3b074_8b48_11eb_a948_8b8112ff62bblevel0_row0\" class=\"row_heading level0 row0\" >0</th>\n",
       "                        <td id=\"T_b5f3b074_8b48_11eb_a948_8b8112ff62bbrow0_col0\" class=\"data row0 col0\" >179</td>\n",
       "                        <td id=\"T_b5f3b074_8b48_11eb_a948_8b8112ff62bbrow0_col1\" class=\"data row0 col1\" >$3.05</td>\n",
       "                        <td id=\"T_b5f3b074_8b48_11eb_a948_8b8112ff62bbrow0_col2\" class=\"data row0 col2\" >780</td>\n",
       "                        <td id=\"T_b5f3b074_8b48_11eb_a948_8b8112ff62bbrow0_col3\" class=\"data row0 col3\" >$2,379.77</td>\n",
       "            </tr>\n",
       "    </tbody></table>"
      ],
      "text/plain": [
       "<pandas.io.formats.style.Styler at 0x1690dd1e240>"
      ]
     },
     "execution_count": 6,
     "metadata": {},
     "output_type": "execute_result"
    }
   ],
   "source": [
    "# Purchasing Analysis(Total)\n",
    "# number of unique items, Avg Purchase Price, Total number of Purchases, Total Revenue\n",
    "number_unique_items = len((purchase_df[\"Item ID\"]).unique())\n",
    "avg_price = (purchase_df[\"Price\"]).mean()\n",
    "total_number_purchases = (purchase_df[\"Purchase ID\"]).count()\n",
    "total_revenue = (purchase_df[\"Price\"]).sum()\n",
    "\n",
    "# data frame to display analysis\n",
    "purchasing_analysis_df = pd.DataFrame({\"Number of Unique Items\":[number_unique_items],\n",
    "                                       \"Average Purchase Price\":[avg_price],\n",
    "                                       \"Total Number of Purchases\":[total_number_purchases],\n",
    "                                       \"Total Revenue\":[total_revenue]})\n",
    "\n",
    "#format Avg Price and Total Revenue\n",
    "purchasing_analysis_df.style.format({'Average Purchase Price':\"${:,.2f}\",\n",
    "                                     'Total Revenue':\"${:,.2f}\"})"
   ]
  },
  {
   "cell_type": "code",
   "execution_count": 7,
   "metadata": {},
   "outputs": [
    {
     "data": {
      "text/html": [
       "<style  type=\"text/css\" >\n",
       "</style><table id=\"T_b6032b34_8b48_11eb_86c8_8b8112ff62bb\" ><thead>    <tr>        <th class=\"blank level0\" ></th>        <th class=\"col_heading level0 col0\" >Percentage of Players</th>        <th class=\"col_heading level0 col1\" >Total Count</th>    </tr></thead><tbody>\n",
       "                <tr>\n",
       "                        <th id=\"T_b6032b34_8b48_11eb_86c8_8b8112ff62bblevel0_row0\" class=\"row_heading level0 row0\" >Male</th>\n",
       "                        <td id=\"T_b6032b34_8b48_11eb_86c8_8b8112ff62bbrow0_col0\" class=\"data row0 col0\" >84.03</td>\n",
       "                        <td id=\"T_b6032b34_8b48_11eb_86c8_8b8112ff62bbrow0_col1\" class=\"data row0 col1\" >484</td>\n",
       "            </tr>\n",
       "            <tr>\n",
       "                        <th id=\"T_b6032b34_8b48_11eb_86c8_8b8112ff62bblevel0_row1\" class=\"row_heading level0 row1\" >Female</th>\n",
       "                        <td id=\"T_b6032b34_8b48_11eb_86c8_8b8112ff62bbrow1_col0\" class=\"data row1 col0\" >14.06</td>\n",
       "                        <td id=\"T_b6032b34_8b48_11eb_86c8_8b8112ff62bbrow1_col1\" class=\"data row1 col1\" >81</td>\n",
       "            </tr>\n",
       "            <tr>\n",
       "                        <th id=\"T_b6032b34_8b48_11eb_86c8_8b8112ff62bblevel0_row2\" class=\"row_heading level0 row2\" >Other / Non-Disclosed</th>\n",
       "                        <td id=\"T_b6032b34_8b48_11eb_86c8_8b8112ff62bbrow2_col0\" class=\"data row2 col0\" >1.91</td>\n",
       "                        <td id=\"T_b6032b34_8b48_11eb_86c8_8b8112ff62bbrow2_col1\" class=\"data row2 col1\" >11</td>\n",
       "            </tr>\n",
       "    </tbody></table>"
      ],
      "text/plain": [
       "<pandas.io.formats.style.Styler at 0x1690ed89b00>"
      ]
     },
     "execution_count": 7,
     "metadata": {},
     "output_type": "execute_result"
    }
   ],
   "source": [
    "#Gender Demographics\n",
    "gender_stats = purchase_df.groupby(\"Gender\")\n",
    "#percentage and count of Male players\n",
    "#percentage and count of Female players\n",
    "#percentage and count of Other / Non-Disclosed players\n",
    "player_gender_count = gender_stats.nunique()[\"SN\"]\n",
    "player_gender_percentage = player_gender_count / total_players * 100\n",
    "gender_demographics = pd.DataFrame({\"Percentage of Players\": player_gender_percentage, \"Total Count\": player_gender_count})\n",
    "#remove Index from DataFrame\n",
    "gender_demographics.index.name = None\n",
    "#format output\n",
    "gender_demographics.sort_values([\"Total Count\"], ascending = False).style.format({\"Percentage of Players\":\"{:.2f}\"})"
   ]
  },
  {
   "cell_type": "code",
   "execution_count": 11,
   "metadata": {},
   "outputs": [
    {
     "data": {
      "text/html": [
       "<style  type=\"text/css\" >\n",
       "</style><table id=\"T_487aab14_8b4d_11eb_909f_8b8112ff62bb\" ><thead>    <tr>        <th class=\"blank level0\" ></th>        <th class=\"col_heading level0 col0\" >Purchase Count</th>        <th class=\"col_heading level0 col1\" >Average Purchase Price</th>        <th class=\"col_heading level0 col2\" >Total Purchase Value</th>        <th class=\"col_heading level0 col3\" >Average Purchase Total per Person by Gender</th>    </tr>    <tr>        <th class=\"index_name level0\" >Gender</th>        <th class=\"blank\" ></th>        <th class=\"blank\" ></th>        <th class=\"blank\" ></th>        <th class=\"blank\" ></th>    </tr></thead><tbody>\n",
       "                <tr>\n",
       "                        <th id=\"T_487aab14_8b4d_11eb_909f_8b8112ff62bblevel0_row0\" class=\"row_heading level0 row0\" >Female</th>\n",
       "                        <td id=\"T_487aab14_8b4d_11eb_909f_8b8112ff62bbrow0_col0\" class=\"data row0 col0\" >113</td>\n",
       "                        <td id=\"T_487aab14_8b4d_11eb_909f_8b8112ff62bbrow0_col1\" class=\"data row0 col1\" >$3.20</td>\n",
       "                        <td id=\"T_487aab14_8b4d_11eb_909f_8b8112ff62bbrow0_col2\" class=\"data row0 col2\" >$361.94</td>\n",
       "                        <td id=\"T_487aab14_8b4d_11eb_909f_8b8112ff62bbrow0_col3\" class=\"data row0 col3\" >$4.47</td>\n",
       "            </tr>\n",
       "            <tr>\n",
       "                        <th id=\"T_487aab14_8b4d_11eb_909f_8b8112ff62bblevel0_row1\" class=\"row_heading level0 row1\" >Male</th>\n",
       "                        <td id=\"T_487aab14_8b4d_11eb_909f_8b8112ff62bbrow1_col0\" class=\"data row1 col0\" >652</td>\n",
       "                        <td id=\"T_487aab14_8b4d_11eb_909f_8b8112ff62bbrow1_col1\" class=\"data row1 col1\" >$3.02</td>\n",
       "                        <td id=\"T_487aab14_8b4d_11eb_909f_8b8112ff62bbrow1_col2\" class=\"data row1 col2\" >$1,967.64</td>\n",
       "                        <td id=\"T_487aab14_8b4d_11eb_909f_8b8112ff62bbrow1_col3\" class=\"data row1 col3\" >$4.07</td>\n",
       "            </tr>\n",
       "            <tr>\n",
       "                        <th id=\"T_487aab14_8b4d_11eb_909f_8b8112ff62bblevel0_row2\" class=\"row_heading level0 row2\" >Other / Non-Disclosed</th>\n",
       "                        <td id=\"T_487aab14_8b4d_11eb_909f_8b8112ff62bbrow2_col0\" class=\"data row2 col0\" >15</td>\n",
       "                        <td id=\"T_487aab14_8b4d_11eb_909f_8b8112ff62bbrow2_col1\" class=\"data row2 col1\" >$3.35</td>\n",
       "                        <td id=\"T_487aab14_8b4d_11eb_909f_8b8112ff62bbrow2_col2\" class=\"data row2 col2\" >$50.19</td>\n",
       "                        <td id=\"T_487aab14_8b4d_11eb_909f_8b8112ff62bbrow2_col3\" class=\"data row2 col3\" >$4.56</td>\n",
       "            </tr>\n",
       "    </tbody></table>"
      ],
      "text/plain": [
       "<pandas.io.formats.style.Styler at 0x1690edc6fd0>"
      ]
     },
     "execution_count": 11,
     "metadata": {},
     "output_type": "execute_result"
    }
   ],
   "source": [
    "#Purchasing Analysis (Gender)\n",
    "#by Gender; Purchase Count, Avg Purchase Price, Total Purchase Value, Avg Purhcase total per Person by Gender\n",
    "purchase_count = gender_stats[\"Purchase ID\"].count()\n",
    "avg_purchase_price = gender_stats[\"Price\"].mean()\n",
    "total_purchase_price = gender_stats[\"Price\"].sum()\n",
    "avg_purchase_person = total_purchase_price/player_gender_count\n",
    "\n",
    "#display in dataframe\n",
    "purchase_analysis = pd.DataFrame({\"Purchase Count\": purchase_count,\n",
    "                                 \"Average Purchase Price\": avg_purchase_price,\n",
    "                                 \"Total Purchase Value\": total_purchase_price,\n",
    "                                 \"Average Purchase Total per Person by Gender\": avg_purchase_person})\n",
    "#add index in top left to show each gender\n",
    "purchase_analysis.index.name = \"Gender\"\n",
    "\n",
    "#format Currency\n",
    "purchase_analysis.style.format({\"Average Purchase Price\":\"${:,.2f}\",\n",
    "                               \"Total Purchase Value\":\"${:,.2f}\",\n",
    "                               \"Average Purchase Total per Person by Gender\":\"${:,.2f}\"})"
   ]
  },
  {
   "cell_type": "code",
   "execution_count": null,
   "metadata": {},
   "outputs": [],
   "source": [
    "#Age Demographics\n",
    "#The below each broken into bins of 4 year (<10, 10-14,15-19,>20)\n",
    "    #Purchase Count, Avg Purchase Price, Total Purchase Value, Avg Purhcase total per Person by Age Group"
   ]
  },
  {
   "cell_type": "code",
   "execution_count": null,
   "metadata": {},
   "outputs": [],
   "source": [
    "#Top Spenders\n",
    "#Identify the top 5 spenders in the game by total purchase value, then list (in a table): \n",
    "    #SN(ScreenName), Purchase Count, Avg Purchase Price, Total Purchase Value"
   ]
  },
  {
   "cell_type": "code",
   "execution_count": null,
   "metadata": {},
   "outputs": [],
   "source": [
    "#Most Popular Items\n",
    "#Identify the 5 most popular items by purchase count, then list (in a table):\n",
    "    #Item ID, Item Name, Purchase Count, Item Price, Total Purchase Value"
   ]
  },
  {
   "cell_type": "code",
   "execution_count": null,
   "metadata": {},
   "outputs": [],
   "source": [
    "#Most Profitable Items\n",
    "#Identify the 5 most profitable items by total purchase value, then list (in a table):\n",
    "    #Item ID, Item Name, Purchase Count, Item Price, Total Purchase Value"
   ]
  },
  {
   "cell_type": "code",
   "execution_count": null,
   "metadata": {},
   "outputs": [],
   "source": []
  },
  {
   "cell_type": "code",
   "execution_count": null,
   "metadata": {},
   "outputs": [],
   "source": []
  },
  {
   "cell_type": "code",
   "execution_count": null,
   "metadata": {},
   "outputs": [],
   "source": []
  }
 ],
 "metadata": {
  "kernelspec": {
   "display_name": "Python 3",
   "language": "python",
   "name": "python3"
  },
  "language_info": {
   "codemirror_mode": {
    "name": "ipython",
    "version": 3
   },
   "file_extension": ".py",
   "mimetype": "text/x-python",
   "name": "python",
   "nbconvert_exporter": "python",
   "pygments_lexer": "ipython3",
   "version": "3.6.10"
  }
 },
 "nbformat": 4,
 "nbformat_minor": 4
}
