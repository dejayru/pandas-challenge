{
 "cells": [
  {
   "cell_type": "code",
   "execution_count": 1,
   "metadata": {},
   "outputs": [],
   "source": [
    "#import files\n",
    "import pandas as pd\n",
    "import numpy as np"
   ]
  },
  {
   "cell_type": "code",
   "execution_count": 2,
   "metadata": {},
   "outputs": [
    {
     "data": {
      "text/html": [
       "<div>\n",
       "<style scoped>\n",
       "    .dataframe tbody tr th:only-of-type {\n",
       "        vertical-align: middle;\n",
       "    }\n",
       "\n",
       "    .dataframe tbody tr th {\n",
       "        vertical-align: top;\n",
       "    }\n",
       "\n",
       "    .dataframe thead th {\n",
       "        text-align: right;\n",
       "    }\n",
       "</style>\n",
       "<table border=\"1\" class=\"dataframe\">\n",
       "  <thead>\n",
       "    <tr style=\"text-align: right;\">\n",
       "      <th></th>\n",
       "      <th>Purchase ID</th>\n",
       "      <th>SN</th>\n",
       "      <th>Age</th>\n",
       "      <th>Gender</th>\n",
       "      <th>Item ID</th>\n",
       "      <th>Item Name</th>\n",
       "      <th>Price</th>\n",
       "    </tr>\n",
       "  </thead>\n",
       "  <tbody>\n",
       "    <tr>\n",
       "      <th>0</th>\n",
       "      <td>0</td>\n",
       "      <td>Lisim78</td>\n",
       "      <td>20</td>\n",
       "      <td>Male</td>\n",
       "      <td>108</td>\n",
       "      <td>Extraction, Quickblade Of Trembling Hands</td>\n",
       "      <td>3.53</td>\n",
       "    </tr>\n",
       "    <tr>\n",
       "      <th>1</th>\n",
       "      <td>1</td>\n",
       "      <td>Lisovynya38</td>\n",
       "      <td>40</td>\n",
       "      <td>Male</td>\n",
       "      <td>143</td>\n",
       "      <td>Frenzied Scimitar</td>\n",
       "      <td>1.56</td>\n",
       "    </tr>\n",
       "    <tr>\n",
       "      <th>2</th>\n",
       "      <td>2</td>\n",
       "      <td>Ithergue48</td>\n",
       "      <td>24</td>\n",
       "      <td>Male</td>\n",
       "      <td>92</td>\n",
       "      <td>Final Critic</td>\n",
       "      <td>4.88</td>\n",
       "    </tr>\n",
       "    <tr>\n",
       "      <th>3</th>\n",
       "      <td>3</td>\n",
       "      <td>Chamassasya86</td>\n",
       "      <td>24</td>\n",
       "      <td>Male</td>\n",
       "      <td>100</td>\n",
       "      <td>Blindscythe</td>\n",
       "      <td>3.27</td>\n",
       "    </tr>\n",
       "    <tr>\n",
       "      <th>4</th>\n",
       "      <td>4</td>\n",
       "      <td>Iskosia90</td>\n",
       "      <td>23</td>\n",
       "      <td>Male</td>\n",
       "      <td>131</td>\n",
       "      <td>Fury</td>\n",
       "      <td>1.44</td>\n",
       "    </tr>\n",
       "  </tbody>\n",
       "</table>\n",
       "</div>"
      ],
      "text/plain": [
       "   Purchase ID             SN  Age Gender  Item ID  \\\n",
       "0            0        Lisim78   20   Male      108   \n",
       "1            1    Lisovynya38   40   Male      143   \n",
       "2            2     Ithergue48   24   Male       92   \n",
       "3            3  Chamassasya86   24   Male      100   \n",
       "4            4      Iskosia90   23   Male      131   \n",
       "\n",
       "                                   Item Name  Price  \n",
       "0  Extraction, Quickblade Of Trembling Hands   3.53  \n",
       "1                          Frenzied Scimitar   1.56  \n",
       "2                               Final Critic   4.88  \n",
       "3                                Blindscythe   3.27  \n",
       "4                                       Fury   1.44  "
      ]
     },
     "execution_count": 2,
     "metadata": {},
     "output_type": "execute_result"
    }
   ],
   "source": [
    "# Load csv file\n",
    "purchase_file = \"../Resources/purchase_data.csv\"\n",
    "purchase_df = pd.read_csv(purchase_file, encoding=\"utf-8\")\n",
    "purchase_df.head()"
   ]
  },
  {
   "cell_type": "code",
   "execution_count": 3,
   "metadata": {},
   "outputs": [
    {
     "data": {
      "text/plain": [
       "Index(['Purchase ID', 'SN', 'Age', 'Gender', 'Item ID', 'Item Name', 'Price'], dtype='object')"
      ]
     },
     "execution_count": 3,
     "metadata": {},
     "output_type": "execute_result"
    }
   ],
   "source": [
    "purchase_df.columns"
   ]
  },
  {
   "cell_type": "code",
   "execution_count": 4,
   "metadata": {},
   "outputs": [
    {
     "data": {
      "text/html": [
       "<div>\n",
       "<style scoped>\n",
       "    .dataframe tbody tr th:only-of-type {\n",
       "        vertical-align: middle;\n",
       "    }\n",
       "\n",
       "    .dataframe tbody tr th {\n",
       "        vertical-align: top;\n",
       "    }\n",
       "\n",
       "    .dataframe thead th {\n",
       "        text-align: right;\n",
       "    }\n",
       "</style>\n",
       "<table border=\"1\" class=\"dataframe\">\n",
       "  <thead>\n",
       "    <tr style=\"text-align: right;\">\n",
       "      <th></th>\n",
       "      <th>Total Players</th>\n",
       "    </tr>\n",
       "  </thead>\n",
       "  <tbody>\n",
       "    <tr>\n",
       "      <th>0</th>\n",
       "      <td>576</td>\n",
       "    </tr>\n",
       "  </tbody>\n",
       "</table>\n",
       "</div>"
      ],
      "text/plain": [
       "   Total Players\n",
       "0            576"
      ]
     },
     "execution_count": 4,
     "metadata": {},
     "output_type": "execute_result"
    }
   ],
   "source": [
    "# Player count - Total number of players\n",
    "total_players = len(purchase_df[\"SN\"].value_counts())\n",
    "\n",
    "total_players_sum = pd.DataFrame({\"Total Players\": [total_players]})\n",
    "total_players_sum"
   ]
  },
  {
   "cell_type": "code",
   "execution_count": 5,
   "metadata": {},
   "outputs": [
    {
     "data": {
      "text/html": [
       "<style  type=\"text/css\" >\n",
       "</style><table id=\"T_4e760315_8c17_11eb_a2b3_8b8112ff62bb\" ><thead>    <tr>        <th class=\"blank level0\" ></th>        <th class=\"col_heading level0 col0\" >Number of Unique Items</th>        <th class=\"col_heading level0 col1\" >Average Purchase Price</th>        <th class=\"col_heading level0 col2\" >Total Number of Purchases</th>        <th class=\"col_heading level0 col3\" >Total Revenue</th>    </tr></thead><tbody>\n",
       "                <tr>\n",
       "                        <th id=\"T_4e760315_8c17_11eb_a2b3_8b8112ff62bblevel0_row0\" class=\"row_heading level0 row0\" >0</th>\n",
       "                        <td id=\"T_4e760315_8c17_11eb_a2b3_8b8112ff62bbrow0_col0\" class=\"data row0 col0\" >179</td>\n",
       "                        <td id=\"T_4e760315_8c17_11eb_a2b3_8b8112ff62bbrow0_col1\" class=\"data row0 col1\" >$3.05</td>\n",
       "                        <td id=\"T_4e760315_8c17_11eb_a2b3_8b8112ff62bbrow0_col2\" class=\"data row0 col2\" >780</td>\n",
       "                        <td id=\"T_4e760315_8c17_11eb_a2b3_8b8112ff62bbrow0_col3\" class=\"data row0 col3\" >$2,379.77</td>\n",
       "            </tr>\n",
       "    </tbody></table>"
      ],
      "text/plain": [
       "<pandas.io.formats.style.Styler at 0x2298e6f6b20>"
      ]
     },
     "execution_count": 5,
     "metadata": {},
     "output_type": "execute_result"
    }
   ],
   "source": [
    "# Purchasing Analysis(Total)\n",
    "# number of unique items, Avg Purchase Price, Total number of Purchases, Total Revenue\n",
    "number_unique_items = len((purchase_df[\"Item ID\"]).unique())\n",
    "avg_price = (purchase_df[\"Price\"]).mean()\n",
    "total_number_purchases = (purchase_df[\"Purchase ID\"]).count()\n",
    "total_revenue = (purchase_df[\"Price\"]).sum()\n",
    "\n",
    "# data frame to display analysis\n",
    "purchasing_analysis_df = pd.DataFrame({\"Number of Unique Items\":[number_unique_items],\n",
    "                                       \"Average Purchase Price\":[avg_price],\n",
    "                                       \"Total Number of Purchases\":[total_number_purchases],\n",
    "                                       \"Total Revenue\":[total_revenue]})\n",
    "\n",
    "#format Avg Price and Total Revenue\n",
    "purchasing_analysis_df.style.format({'Average Purchase Price':\"${:,.2f}\",\n",
    "                                     'Total Revenue':\"${:,.2f}\"})"
   ]
  },
  {
   "cell_type": "code",
   "execution_count": 6,
   "metadata": {},
   "outputs": [
    {
     "data": {
      "text/html": [
       "<style  type=\"text/css\" >\n",
       "</style><table id=\"T_4ee4f790_8c17_11eb_823a_8b8112ff62bb\" ><thead>    <tr>        <th class=\"blank level0\" ></th>        <th class=\"col_heading level0 col0\" >Percentage of Players</th>        <th class=\"col_heading level0 col1\" >Total Count</th>    </tr></thead><tbody>\n",
       "                <tr>\n",
       "                        <th id=\"T_4ee4f790_8c17_11eb_823a_8b8112ff62bblevel0_row0\" class=\"row_heading level0 row0\" >Male</th>\n",
       "                        <td id=\"T_4ee4f790_8c17_11eb_823a_8b8112ff62bbrow0_col0\" class=\"data row0 col0\" >84.03</td>\n",
       "                        <td id=\"T_4ee4f790_8c17_11eb_823a_8b8112ff62bbrow0_col1\" class=\"data row0 col1\" >484</td>\n",
       "            </tr>\n",
       "            <tr>\n",
       "                        <th id=\"T_4ee4f790_8c17_11eb_823a_8b8112ff62bblevel0_row1\" class=\"row_heading level0 row1\" >Female</th>\n",
       "                        <td id=\"T_4ee4f790_8c17_11eb_823a_8b8112ff62bbrow1_col0\" class=\"data row1 col0\" >14.06</td>\n",
       "                        <td id=\"T_4ee4f790_8c17_11eb_823a_8b8112ff62bbrow1_col1\" class=\"data row1 col1\" >81</td>\n",
       "            </tr>\n",
       "            <tr>\n",
       "                        <th id=\"T_4ee4f790_8c17_11eb_823a_8b8112ff62bblevel0_row2\" class=\"row_heading level0 row2\" >Other / Non-Disclosed</th>\n",
       "                        <td id=\"T_4ee4f790_8c17_11eb_823a_8b8112ff62bbrow2_col0\" class=\"data row2 col0\" >1.91</td>\n",
       "                        <td id=\"T_4ee4f790_8c17_11eb_823a_8b8112ff62bbrow2_col1\" class=\"data row2 col1\" >11</td>\n",
       "            </tr>\n",
       "    </tbody></table>"
      ],
      "text/plain": [
       "<pandas.io.formats.style.Styler at 0x2298e696790>"
      ]
     },
     "execution_count": 6,
     "metadata": {},
     "output_type": "execute_result"
    }
   ],
   "source": [
    "#Gender Demographics\n",
    "gender_stats = purchase_df.groupby(\"Gender\")\n",
    "#percentage and count of Male players\n",
    "#percentage and count of Female players\n",
    "#percentage and count of Other / Non-Disclosed players\n",
    "player_gender_count = gender_stats.nunique()[\"SN\"]\n",
    "player_gender_percentage = player_gender_count / total_players * 100\n",
    "gender_demographics = pd.DataFrame({\"Percentage of Players\": player_gender_percentage, \"Total Count\": player_gender_count})\n",
    "#remove Index from DataFrame\n",
    "gender_demographics.index.name = None\n",
    "#format output\n",
    "gender_demographics.sort_values([\"Total Count\"], ascending = False).style.format({\"Percentage of Players\":\"{:.2f}\"})"
   ]
  },
  {
   "cell_type": "code",
   "execution_count": 7,
   "metadata": {},
   "outputs": [
    {
     "data": {
      "text/html": [
       "<style  type=\"text/css\" >\n",
       "</style><table id=\"T_50cf49f4_8c17_11eb_9b37_8b8112ff62bb\" ><thead>    <tr>        <th class=\"blank level0\" ></th>        <th class=\"col_heading level0 col0\" >Purchase Count</th>        <th class=\"col_heading level0 col1\" >Average Purchase Price</th>        <th class=\"col_heading level0 col2\" >Total Purchase Value</th>        <th class=\"col_heading level0 col3\" >Average Purchase Total per Person by Gender</th>    </tr>    <tr>        <th class=\"index_name level0\" >Gender</th>        <th class=\"blank\" ></th>        <th class=\"blank\" ></th>        <th class=\"blank\" ></th>        <th class=\"blank\" ></th>    </tr></thead><tbody>\n",
       "                <tr>\n",
       "                        <th id=\"T_50cf49f4_8c17_11eb_9b37_8b8112ff62bblevel0_row0\" class=\"row_heading level0 row0\" >Female</th>\n",
       "                        <td id=\"T_50cf49f4_8c17_11eb_9b37_8b8112ff62bbrow0_col0\" class=\"data row0 col0\" >113</td>\n",
       "                        <td id=\"T_50cf49f4_8c17_11eb_9b37_8b8112ff62bbrow0_col1\" class=\"data row0 col1\" >$3.20</td>\n",
       "                        <td id=\"T_50cf49f4_8c17_11eb_9b37_8b8112ff62bbrow0_col2\" class=\"data row0 col2\" >$361.94</td>\n",
       "                        <td id=\"T_50cf49f4_8c17_11eb_9b37_8b8112ff62bbrow0_col3\" class=\"data row0 col3\" >$4.47</td>\n",
       "            </tr>\n",
       "            <tr>\n",
       "                        <th id=\"T_50cf49f4_8c17_11eb_9b37_8b8112ff62bblevel0_row1\" class=\"row_heading level0 row1\" >Male</th>\n",
       "                        <td id=\"T_50cf49f4_8c17_11eb_9b37_8b8112ff62bbrow1_col0\" class=\"data row1 col0\" >652</td>\n",
       "                        <td id=\"T_50cf49f4_8c17_11eb_9b37_8b8112ff62bbrow1_col1\" class=\"data row1 col1\" >$3.02</td>\n",
       "                        <td id=\"T_50cf49f4_8c17_11eb_9b37_8b8112ff62bbrow1_col2\" class=\"data row1 col2\" >$1,967.64</td>\n",
       "                        <td id=\"T_50cf49f4_8c17_11eb_9b37_8b8112ff62bbrow1_col3\" class=\"data row1 col3\" >$4.07</td>\n",
       "            </tr>\n",
       "            <tr>\n",
       "                        <th id=\"T_50cf49f4_8c17_11eb_9b37_8b8112ff62bblevel0_row2\" class=\"row_heading level0 row2\" >Other / Non-Disclosed</th>\n",
       "                        <td id=\"T_50cf49f4_8c17_11eb_9b37_8b8112ff62bbrow2_col0\" class=\"data row2 col0\" >15</td>\n",
       "                        <td id=\"T_50cf49f4_8c17_11eb_9b37_8b8112ff62bbrow2_col1\" class=\"data row2 col1\" >$3.35</td>\n",
       "                        <td id=\"T_50cf49f4_8c17_11eb_9b37_8b8112ff62bbrow2_col2\" class=\"data row2 col2\" >$50.19</td>\n",
       "                        <td id=\"T_50cf49f4_8c17_11eb_9b37_8b8112ff62bbrow2_col3\" class=\"data row2 col3\" >$4.56</td>\n",
       "            </tr>\n",
       "    </tbody></table>"
      ],
      "text/plain": [
       "<pandas.io.formats.style.Styler at 0x2298f816e80>"
      ]
     },
     "execution_count": 7,
     "metadata": {},
     "output_type": "execute_result"
    }
   ],
   "source": [
    "#Purchasing Analysis (Gender)\n",
    "#by Gender; Purchase Count, Avg Purchase Price, Total Purchase Value, Avg Purhcase total per Person by Gender\n",
    "purchase_count = gender_stats[\"Purchase ID\"].count()\n",
    "avg_purchase_price = gender_stats[\"Price\"].mean()\n",
    "total_purchase_price = gender_stats[\"Price\"].sum()\n",
    "avg_purchase_person = total_purchase_price/player_gender_count\n",
    "\n",
    "#display in dataframe\n",
    "purchase_analysis = pd.DataFrame({\"Purchase Count\": purchase_count,\n",
    "                                 \"Average Purchase Price\": avg_purchase_price,\n",
    "                                 \"Total Purchase Value\": total_purchase_price,\n",
    "                                 \"Average Purchase Total per Person by Gender\": avg_purchase_person})\n",
    "#add index in top left to show each gender\n",
    "purchase_analysis.index.name = \"Gender\"\n",
    "\n",
    "#format Currency\n",
    "purchase_analysis.style.format({\"Average Purchase Price\":\"${:,.2f}\",\n",
    "                               \"Total Purchase Value\":\"${:,.2f}\",\n",
    "                               \"Average Purchase Total per Person by Gender\":\"${:,.2f}\"})"
   ]
  },
  {
   "cell_type": "code",
   "execution_count": 12,
   "metadata": {},
   "outputs": [
    {
     "data": {
      "text/html": [
       "<style  type=\"text/css\" >\n",
       "</style><table id=\"T_803db9eb_8c1a_11eb_b643_8b8112ff62bb\" ><thead>    <tr>        <th class=\"blank level0\" ></th>        <th class=\"col_heading level0 col0\" >Percentage of Players</th>        <th class=\"col_heading level0 col1\" >Total Count</th>    </tr></thead><tbody>\n",
       "                <tr>\n",
       "                        <th id=\"T_803db9eb_8c1a_11eb_b643_8b8112ff62bblevel0_row0\" class=\"row_heading level0 row0\" ><10</th>\n",
       "                        <td id=\"T_803db9eb_8c1a_11eb_b643_8b8112ff62bbrow0_col0\" class=\"data row0 col0\" >2.95</td>\n",
       "                        <td id=\"T_803db9eb_8c1a_11eb_b643_8b8112ff62bbrow0_col1\" class=\"data row0 col1\" >17</td>\n",
       "            </tr>\n",
       "            <tr>\n",
       "                        <th id=\"T_803db9eb_8c1a_11eb_b643_8b8112ff62bblevel0_row1\" class=\"row_heading level0 row1\" >10-14</th>\n",
       "                        <td id=\"T_803db9eb_8c1a_11eb_b643_8b8112ff62bbrow1_col0\" class=\"data row1 col0\" >3.82</td>\n",
       "                        <td id=\"T_803db9eb_8c1a_11eb_b643_8b8112ff62bbrow1_col1\" class=\"data row1 col1\" >22</td>\n",
       "            </tr>\n",
       "            <tr>\n",
       "                        <th id=\"T_803db9eb_8c1a_11eb_b643_8b8112ff62bblevel0_row2\" class=\"row_heading level0 row2\" >15-19</th>\n",
       "                        <td id=\"T_803db9eb_8c1a_11eb_b643_8b8112ff62bbrow2_col0\" class=\"data row2 col0\" >18.58</td>\n",
       "                        <td id=\"T_803db9eb_8c1a_11eb_b643_8b8112ff62bbrow2_col1\" class=\"data row2 col1\" >107</td>\n",
       "            </tr>\n",
       "            <tr>\n",
       "                        <th id=\"T_803db9eb_8c1a_11eb_b643_8b8112ff62bblevel0_row3\" class=\"row_heading level0 row3\" >20-24</th>\n",
       "                        <td id=\"T_803db9eb_8c1a_11eb_b643_8b8112ff62bbrow3_col0\" class=\"data row3 col0\" >44.79</td>\n",
       "                        <td id=\"T_803db9eb_8c1a_11eb_b643_8b8112ff62bbrow3_col1\" class=\"data row3 col1\" >258</td>\n",
       "            </tr>\n",
       "            <tr>\n",
       "                        <th id=\"T_803db9eb_8c1a_11eb_b643_8b8112ff62bblevel0_row4\" class=\"row_heading level0 row4\" >25-29</th>\n",
       "                        <td id=\"T_803db9eb_8c1a_11eb_b643_8b8112ff62bbrow4_col0\" class=\"data row4 col0\" >13.37</td>\n",
       "                        <td id=\"T_803db9eb_8c1a_11eb_b643_8b8112ff62bbrow4_col1\" class=\"data row4 col1\" >77</td>\n",
       "            </tr>\n",
       "            <tr>\n",
       "                        <th id=\"T_803db9eb_8c1a_11eb_b643_8b8112ff62bblevel0_row5\" class=\"row_heading level0 row5\" >30-34</th>\n",
       "                        <td id=\"T_803db9eb_8c1a_11eb_b643_8b8112ff62bbrow5_col0\" class=\"data row5 col0\" >9.03</td>\n",
       "                        <td id=\"T_803db9eb_8c1a_11eb_b643_8b8112ff62bbrow5_col1\" class=\"data row5 col1\" >52</td>\n",
       "            </tr>\n",
       "            <tr>\n",
       "                        <th id=\"T_803db9eb_8c1a_11eb_b643_8b8112ff62bblevel0_row6\" class=\"row_heading level0 row6\" >35-39</th>\n",
       "                        <td id=\"T_803db9eb_8c1a_11eb_b643_8b8112ff62bbrow6_col0\" class=\"data row6 col0\" >5.38</td>\n",
       "                        <td id=\"T_803db9eb_8c1a_11eb_b643_8b8112ff62bbrow6_col1\" class=\"data row6 col1\" >31</td>\n",
       "            </tr>\n",
       "            <tr>\n",
       "                        <th id=\"T_803db9eb_8c1a_11eb_b643_8b8112ff62bblevel0_row7\" class=\"row_heading level0 row7\" >>40</th>\n",
       "                        <td id=\"T_803db9eb_8c1a_11eb_b643_8b8112ff62bbrow7_col0\" class=\"data row7 col0\" >2.08</td>\n",
       "                        <td id=\"T_803db9eb_8c1a_11eb_b643_8b8112ff62bbrow7_col1\" class=\"data row7 col1\" >12</td>\n",
       "            </tr>\n",
       "    </tbody></table>"
      ],
      "text/plain": [
       "<pandas.io.formats.style.Styler at 0x2298f84c130>"
      ]
     },
     "execution_count": 12,
     "metadata": {},
     "output_type": "execute_result"
    }
   ],
   "source": [
    "#Age Demographics\n",
    "#The below each broken into bins of 4 year (<10, 10-14,15-19,>20)\n",
    "    #Purchase Count, Avg Purchase Price, Total Purchase Value, Avg Purhcase total per Person by Age Group\n",
    "#bins for age range    \n",
    "age_bins = [0, 9.99, 14.99, 19.99, 24.99, 29.99, 34.99, 39.99, 9999]\n",
    "group_names = [\"<10\", \"10-14\", \"15-19\", \"20-24\", \"25-29\", \"30-34\", \"35-39\", \">40\"]\n",
    "\n",
    "#get age values into bins\n",
    "purchase_df[\"Age Group\"] = pd.cut(purchase_df[\"Age\"], age_bins, labels=group_names)\n",
    "age_range = purchase_df.groupby(\"Age Group\")\n",
    "\n",
    "#total playes by age group\n",
    "total_players_age = age_range[\"SN\"].nunique()\n",
    "\n",
    "#calc percentage by age group\n",
    "percentage_age_group = (total_players_age/total_players)*100\n",
    "\n",
    "#data frame for percentage and count by age group\n",
    "age_demographics = pd.DataFrame({\"Percentage of Players\": percentage_age_group,\n",
    "                                \"Total Count\": total_players_age})\n",
    "\n",
    "age_demographics.index.name = None\n",
    "\n",
    "age_demographics.style.format({\"Percentage of Players\":\"{:,.2f}\"})\n"
   ]
  },
  {
   "cell_type": "code",
   "execution_count": 13,
   "metadata": {},
   "outputs": [
    {
     "data": {
      "text/html": [
       "<style  type=\"text/css\" >\n",
       "</style><table id=\"T_8236ccc5_8c1a_11eb_bcdc_8b8112ff62bb\" ><thead>    <tr>        <th class=\"blank level0\" ></th>        <th class=\"col_heading level0 col0\" >Purchase Count</th>        <th class=\"col_heading level0 col1\" >Average Purchase Price</th>        <th class=\"col_heading level0 col2\" >Total Purhcase Value</th>        <th class=\"col_heading level0 col3\" >Average Purchase Total per Person</th>    </tr></thead><tbody>\n",
       "                <tr>\n",
       "                        <th id=\"T_8236ccc5_8c1a_11eb_bcdc_8b8112ff62bblevel0_row0\" class=\"row_heading level0 row0\" ><10</th>\n",
       "                        <td id=\"T_8236ccc5_8c1a_11eb_bcdc_8b8112ff62bbrow0_col0\" class=\"data row0 col0\" >23</td>\n",
       "                        <td id=\"T_8236ccc5_8c1a_11eb_bcdc_8b8112ff62bbrow0_col1\" class=\"data row0 col1\" >$3.35</td>\n",
       "                        <td id=\"T_8236ccc5_8c1a_11eb_bcdc_8b8112ff62bbrow0_col2\" class=\"data row0 col2\" >77.130000</td>\n",
       "                        <td id=\"T_8236ccc5_8c1a_11eb_bcdc_8b8112ff62bbrow0_col3\" class=\"data row0 col3\" >$4.54</td>\n",
       "            </tr>\n",
       "            <tr>\n",
       "                        <th id=\"T_8236ccc5_8c1a_11eb_bcdc_8b8112ff62bblevel0_row1\" class=\"row_heading level0 row1\" >10-14</th>\n",
       "                        <td id=\"T_8236ccc5_8c1a_11eb_bcdc_8b8112ff62bbrow1_col0\" class=\"data row1 col0\" >28</td>\n",
       "                        <td id=\"T_8236ccc5_8c1a_11eb_bcdc_8b8112ff62bbrow1_col1\" class=\"data row1 col1\" >$2.96</td>\n",
       "                        <td id=\"T_8236ccc5_8c1a_11eb_bcdc_8b8112ff62bbrow1_col2\" class=\"data row1 col2\" >82.780000</td>\n",
       "                        <td id=\"T_8236ccc5_8c1a_11eb_bcdc_8b8112ff62bbrow1_col3\" class=\"data row1 col3\" >$3.76</td>\n",
       "            </tr>\n",
       "            <tr>\n",
       "                        <th id=\"T_8236ccc5_8c1a_11eb_bcdc_8b8112ff62bblevel0_row2\" class=\"row_heading level0 row2\" >15-19</th>\n",
       "                        <td id=\"T_8236ccc5_8c1a_11eb_bcdc_8b8112ff62bbrow2_col0\" class=\"data row2 col0\" >136</td>\n",
       "                        <td id=\"T_8236ccc5_8c1a_11eb_bcdc_8b8112ff62bbrow2_col1\" class=\"data row2 col1\" >$3.04</td>\n",
       "                        <td id=\"T_8236ccc5_8c1a_11eb_bcdc_8b8112ff62bbrow2_col2\" class=\"data row2 col2\" >412.890000</td>\n",
       "                        <td id=\"T_8236ccc5_8c1a_11eb_bcdc_8b8112ff62bbrow2_col3\" class=\"data row2 col3\" >$3.86</td>\n",
       "            </tr>\n",
       "            <tr>\n",
       "                        <th id=\"T_8236ccc5_8c1a_11eb_bcdc_8b8112ff62bblevel0_row3\" class=\"row_heading level0 row3\" >20-24</th>\n",
       "                        <td id=\"T_8236ccc5_8c1a_11eb_bcdc_8b8112ff62bbrow3_col0\" class=\"data row3 col0\" >365</td>\n",
       "                        <td id=\"T_8236ccc5_8c1a_11eb_bcdc_8b8112ff62bbrow3_col1\" class=\"data row3 col1\" >$3.05</td>\n",
       "                        <td id=\"T_8236ccc5_8c1a_11eb_bcdc_8b8112ff62bbrow3_col2\" class=\"data row3 col2\" >1114.060000</td>\n",
       "                        <td id=\"T_8236ccc5_8c1a_11eb_bcdc_8b8112ff62bbrow3_col3\" class=\"data row3 col3\" >$4.32</td>\n",
       "            </tr>\n",
       "            <tr>\n",
       "                        <th id=\"T_8236ccc5_8c1a_11eb_bcdc_8b8112ff62bblevel0_row4\" class=\"row_heading level0 row4\" >25-29</th>\n",
       "                        <td id=\"T_8236ccc5_8c1a_11eb_bcdc_8b8112ff62bbrow4_col0\" class=\"data row4 col0\" >101</td>\n",
       "                        <td id=\"T_8236ccc5_8c1a_11eb_bcdc_8b8112ff62bbrow4_col1\" class=\"data row4 col1\" >$2.90</td>\n",
       "                        <td id=\"T_8236ccc5_8c1a_11eb_bcdc_8b8112ff62bbrow4_col2\" class=\"data row4 col2\" >293.000000</td>\n",
       "                        <td id=\"T_8236ccc5_8c1a_11eb_bcdc_8b8112ff62bbrow4_col3\" class=\"data row4 col3\" >$3.81</td>\n",
       "            </tr>\n",
       "            <tr>\n",
       "                        <th id=\"T_8236ccc5_8c1a_11eb_bcdc_8b8112ff62bblevel0_row5\" class=\"row_heading level0 row5\" >30-34</th>\n",
       "                        <td id=\"T_8236ccc5_8c1a_11eb_bcdc_8b8112ff62bbrow5_col0\" class=\"data row5 col0\" >73</td>\n",
       "                        <td id=\"T_8236ccc5_8c1a_11eb_bcdc_8b8112ff62bbrow5_col1\" class=\"data row5 col1\" >$2.93</td>\n",
       "                        <td id=\"T_8236ccc5_8c1a_11eb_bcdc_8b8112ff62bbrow5_col2\" class=\"data row5 col2\" >214.000000</td>\n",
       "                        <td id=\"T_8236ccc5_8c1a_11eb_bcdc_8b8112ff62bbrow5_col3\" class=\"data row5 col3\" >$4.12</td>\n",
       "            </tr>\n",
       "            <tr>\n",
       "                        <th id=\"T_8236ccc5_8c1a_11eb_bcdc_8b8112ff62bblevel0_row6\" class=\"row_heading level0 row6\" >35-39</th>\n",
       "                        <td id=\"T_8236ccc5_8c1a_11eb_bcdc_8b8112ff62bbrow6_col0\" class=\"data row6 col0\" >41</td>\n",
       "                        <td id=\"T_8236ccc5_8c1a_11eb_bcdc_8b8112ff62bbrow6_col1\" class=\"data row6 col1\" >$3.60</td>\n",
       "                        <td id=\"T_8236ccc5_8c1a_11eb_bcdc_8b8112ff62bbrow6_col2\" class=\"data row6 col2\" >147.670000</td>\n",
       "                        <td id=\"T_8236ccc5_8c1a_11eb_bcdc_8b8112ff62bbrow6_col3\" class=\"data row6 col3\" >$4.76</td>\n",
       "            </tr>\n",
       "            <tr>\n",
       "                        <th id=\"T_8236ccc5_8c1a_11eb_bcdc_8b8112ff62bblevel0_row7\" class=\"row_heading level0 row7\" >>40</th>\n",
       "                        <td id=\"T_8236ccc5_8c1a_11eb_bcdc_8b8112ff62bbrow7_col0\" class=\"data row7 col0\" >13</td>\n",
       "                        <td id=\"T_8236ccc5_8c1a_11eb_bcdc_8b8112ff62bbrow7_col1\" class=\"data row7 col1\" >$2.94</td>\n",
       "                        <td id=\"T_8236ccc5_8c1a_11eb_bcdc_8b8112ff62bbrow7_col2\" class=\"data row7 col2\" >38.240000</td>\n",
       "                        <td id=\"T_8236ccc5_8c1a_11eb_bcdc_8b8112ff62bbrow7_col3\" class=\"data row7 col3\" >$3.19</td>\n",
       "            </tr>\n",
       "    </tbody></table>"
      ],
      "text/plain": [
       "<pandas.io.formats.style.Styler at 0x2298f831130>"
      ]
     },
     "execution_count": 13,
     "metadata": {},
     "output_type": "execute_result"
    }
   ],
   "source": [
    "#Purchase Count by Age Group\n",
    "purchase_count_age = age_range[\"Purchase ID\"].count()\n",
    "\n",
    "#avg Purchase Price by Age Group\n",
    "avg_purchase_price_age = age_range[\"Price\"].mean()\n",
    "\n",
    "#Total Purchase by age group\n",
    "total_purchase_age = age_range[\"Price\"].sum()\n",
    "\n",
    "#Avg Purchace total per person by age group\n",
    "avg_purchase_person_age = total_purchase_age/total_players_age\n",
    "\n",
    "#create dataframe\n",
    "age_demographics = pd.DataFrame({\"Purchase Count\": purchase_count_age,\n",
    "                                \"Average Purchase Price\": avg_purchase_price_age,\n",
    "                                \"Total Purhcase Value\": total_purchase_age,\n",
    "                                \"Average Purchase Total per Person\": avg_purchase_person_age})\n",
    "#format Datafram\n",
    "age_demographics.index.name = None\n",
    "age_demographics.style.format({\"Average Purchase Price\":\"${:,.2f}\",\n",
    "                               \"Total Purchase Value\":\"${:,.2f}\",\n",
    "                               \"Average Purchase Total per Person\":\"${:,.2f}\"})"
   ]
  },
  {
   "cell_type": "code",
   "execution_count": null,
   "metadata": {},
   "outputs": [],
   "source": [
    "#Top Spenders\n",
    "#Identify the top 5 spenders in the game by total purchase value, then list (in a table): \n",
    "    #SN(ScreenName), Purchase Count, Avg Purchase Price, Total Purchase Value"
   ]
  },
  {
   "cell_type": "code",
   "execution_count": null,
   "metadata": {},
   "outputs": [],
   "source": [
    "#Most Popular Items\n",
    "#Identify the 5 most popular items by purchase count, then list (in a table):\n",
    "    #Item ID, Item Name, Purchase Count, Item Price, Total Purchase Value"
   ]
  },
  {
   "cell_type": "code",
   "execution_count": null,
   "metadata": {},
   "outputs": [],
   "source": [
    "#Most Profitable Items\n",
    "#Identify the 5 most profitable items by total purchase value, then list (in a table):\n",
    "    #Item ID, Item Name, Purchase Count, Item Price, Total Purchase Value"
   ]
  },
  {
   "cell_type": "code",
   "execution_count": null,
   "metadata": {},
   "outputs": [],
   "source": []
  },
  {
   "cell_type": "code",
   "execution_count": null,
   "metadata": {},
   "outputs": [],
   "source": []
  },
  {
   "cell_type": "code",
   "execution_count": null,
   "metadata": {},
   "outputs": [],
   "source": []
  }
 ],
 "metadata": {
  "kernelspec": {
   "display_name": "Python 3",
   "language": "python",
   "name": "python3"
  },
  "language_info": {
   "codemirror_mode": {
    "name": "ipython",
    "version": 3
   },
   "file_extension": ".py",
   "mimetype": "text/x-python",
   "name": "python",
   "nbconvert_exporter": "python",
   "pygments_lexer": "ipython3",
   "version": "3.8.5"
  }
 },
 "nbformat": 4,
 "nbformat_minor": 4
}
